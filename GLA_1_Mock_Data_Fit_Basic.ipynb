{
  "nbformat": 4,
  "nbformat_minor": 0,
  "metadata": {
    "colab": {
      "provenance": [],
      "toc_visible": true,
      "mount_file_id": "1oZjP1ilk2wsyecl0P-6GqBwJZs_6XYec",
      "authorship_tag": "ABX9TyNoWu19cTOPpVgjpVL6n458",
      "include_colab_link": true
    },
    "kernelspec": {
      "name": "python3",
      "display_name": "Python 3"
    },
    "language_info": {
      "name": "python"
    }
  },
  "cells": [
    {
      "cell_type": "markdown",
      "metadata": {
        "id": "view-in-github",
        "colab_type": "text"
      },
      "source": [
        "<a href=\"https://colab.research.google.com/github/darshanbeniwal/Analyzing_Astro_Data_w_Py_GLA_IUCAA_2023/blob/main/GLA_1_Mock_Data_Fit_Basic.ipynb\" target=\"_parent\"><img src=\"https://colab.research.google.com/assets/colab-badge.svg\" alt=\"Open In Colab\"/></a>"
      ]
    },
    {
      "cell_type": "markdown",
      "source": [
        "#Load the required packages"
      ],
      "metadata": {
        "id": "9p5kU6FGGa8g"
      }
    },
    {
      "cell_type": "code",
      "execution_count": null,
      "metadata": {
        "id": "DJPOM4jTj1hb"
      },
      "outputs": [],
      "source": [
        "import numpy as np\n",
        "import pandas as pd\n",
        "import matplotlib.pyplot as plt"
      ]
    },
    {
      "cell_type": "markdown",
      "source": [
        "#Load Mock dataset"
      ],
      "metadata": {
        "id": "YLLW1wlKGpl2"
      }
    },
    {
      "cell_type": "code",
      "source": [
        "x_mock=np.array((1.0,2.0,3.0,4.0,5.0))\n",
        "y_mock=np.array((2.3,4.1,6.2,8.1,10.0))\n",
        "err_y_mock=np.array((0.08, 0.12, 0.2 , 0.16, 0.28))"
      ],
      "metadata": {
        "id": "eGijQZKCGmN5"
      },
      "execution_count": null,
      "outputs": []
    },
    {
      "cell_type": "markdown",
      "source": [
        "#Plot datapoint"
      ],
      "metadata": {
        "id": "V0Jo4Dj0H4Va"
      }
    },
    {
      "cell_type": "code",
      "source": [
        "plt.errorbar(x_mock,y_mock,err_y_mock,fmt='b.')\n",
        "plt.xlabel('x')\n",
        "plt.ylabel('y')\n",
        "plt.show()"
      ],
      "metadata": {
        "colab": {
          "base_uri": "https://localhost:8080/",
          "height": 449
        },
        "id": "nFL6OHk-HiUJ",
        "outputId": "1ae2ef26-9958-4124-da5f-e0fccf07b789"
      },
      "execution_count": null,
      "outputs": [
        {
          "output_type": "display_data",
          "data": {
            "text/plain": [
              "<Figure size 640x480 with 1 Axes>"
            ],
            "image/png": "[encoded data removed]"
          },
          "metadata": {}
        }
      ]
    },
    {
      "cell_type": "markdown",
      "source": [
        "#Perform Chi-square analysis"
      ],
      "metadata": {
        "id": "HknD9KsjINxD"
      }
    },
    {
      "cell_type": "code",
      "source": [
        "a_arr=[]\n",
        "b_arr=[]\n",
        "chi_sq_arr=[]\n",
        "for a in np.arange(0,1,0.0005):\n",
        "    for b in np.arange(0.0,3,0.0005):\n",
        "      chi_sq=0\n",
        "      for i in range(0,len(x_mock)):\n",
        "          y_th=a+b*x_mock[i]\n",
        "          chi_sq1=((y_mock[i]-y_th)/err_y_mock[i])**2\n",
        "          chi_sq=chi_sq+chi_sq1\n",
        "      a_arr.append(a)\n",
        "      b_arr.append(b)\n",
        "      chi_sq_arr.append(chi_sq)\n",
        " #This cell will take around 2 minutes."
      ],
      "metadata": {
        "id": "X4pL83osJADB"
      },
      "execution_count": null,
      "outputs": []
    },
    {
      "cell_type": "markdown",
      "source": [
        "#Save Arrays in a Text file"
      ],
      "metadata": {
        "id": "OwXWzTjcZeUD"
      }
    },
    {
      "cell_type": "code",
      "source": [
        "np.savetxt('store_file.txt',np.transpose([a_arr,b_arr,chi_sq_arr]),fmt='%10.5f',newline='\\n',delimiter=' ')\n",
        "\n",
        "#35sec"
      ],
      "metadata": {
        "id": "GxiqzkdJSPUI"
      },
      "execution_count": null,
      "outputs": []
    },
    {
      "cell_type": "markdown",
      "source": [
        "#Load text file using Pandas"
      ],
      "metadata": {
        "id": "FVsktWAmZK5M"
      }
    },
    {
      "cell_type": "code",
      "source": [
        "df = pd.read_csv ('store_file.txt',sep=\"\\s+\",names=[\"a\",\"b\",\"chi2\"])\n"
      ],
      "metadata": {
        "id": "uNo0GDCjMtiS"
      },
      "execution_count": null,
      "outputs": []
    },
    {
      "cell_type": "code",
      "source": [
        "df"
      ],
      "metadata": {
        "colab": {
          "base_uri": "https://localhost:8080/",
          "height": 424
        },
        "id": "MM1Ow6RwZrWL",
        "outputId": "cb538301-22ac-4030-f930-860bb2060ff1"
      },
      "execution_count": null,
      "outputs": [
        {
          "output_type": "execute_result",
          "data": {
            "text/plain": [
              "               a       b        chi2\n",
              "0         0.0000  0.0000  6793.32444\n",
              "1         0.0000  0.0005  6790.02764\n",
              "2         0.0000  0.0010  6786.73164\n",
              "3         0.0000  0.0015  6783.43645\n",
              "4         0.0000  0.0020  6780.14205\n",
              "...          ...     ...         ...\n",
              "59999995  0.9999  2.9975  2783.00050\n",
              "59999996  0.9999  2.9980  2785.09851\n",
              "59999997  0.9999  2.9985  2787.19733\n",
              "59999998  0.9999  2.9990  2789.29695\n",
              "59999999  0.9999  2.9995  2791.39737\n",
              "\n",
              "[60000000 rows x 3 columns]"
            ],
            "text/html": [
              "\n",
              "  <div id=\"df-e14430c0-212d-45cf-b18f-76a4a6d378b7\">\n",
              "    <div class=\"colab-df-container\">\n",
              "      <div>\n",
              "<style scoped>\n",
              "    .dataframe tbody tr th:only-of-type {\n",
              "        vertical-align: middle;\n",
              "    }\n",
              "\n",
              "    .dataframe tbody tr th {\n",
              "        vertical-align: top;\n",
              "    }\n",
              "\n",
              "    .dataframe thead th {\n",
              "        text-align: right;\n",
              "    }\n",
              "</style>\n",
              "<table border=\"1\" class=\"dataframe\">\n",
              "  <thead>\n",
              "    <tr style=\"text-align: right;\">\n",
              "      <th></th>\n",
              "      <th>a</th>\n",
              "      <th>b</th>\n",
              "      <th>chi2</th>\n",
              "    </tr>\n",
              "  </thead>\n",
              "  <tbody>\n",
              "    <tr>\n",
              "      <th>0</th>\n",
              "      <td>0.0000</td>\n",
              "      <td>0.0000</td>\n",
              "      <td>6793.32444</td>\n",
              "    </tr>\n",
              "    <tr>\n",
              "      <th>1</th>\n",
              "      <td>0.0000</td>\n",
              "      <td>0.0005</td>\n",
              "      <td>6790.02764</td>\n",
              "    </tr>\n",
              "    <tr>\n",
              "      <th>2</th>\n",
              "      <td>0.0000</td>\n",
              "      <td>0.0010</td>\n",
              "      <td>6786.73164</td>\n",
              "    </tr>\n",
              "    <tr>\n",
              "      <th>3</th>\n",
              "      <td>0.0000</td>\n",
              "      <td>0.0015</td>\n",
              "      <td>6783.43645</td>\n",
              "    </tr>\n",
              "    <tr>\n",
              "      <th>4</th>\n",
              "      <td>0.0000</td>\n",
              "      <td>0.0020</td>\n",
              "      <td>6780.14205</td>\n",
              "    </tr>\n",
              "    <tr>\n",
              "      <th>...</th>\n",
              "      <td>...</td>\n",
              "      <td>...</td>\n",
              "      <td>...</td>\n",
              "    </tr>\n",
              "    <tr>\n",
              "      <th>59999995</th>\n",
              "      <td>0.9999</td>\n",
              "      <td>2.9975</td>\n",
              "      <td>2783.00050</td>\n",
              "    </tr>\n",
              "    <tr>\n",
              "      <th>59999996</th>\n",
              "      <td>0.9999</td>\n",
              "      <td>2.9980</td>\n",
              "      <td>2785.09851</td>\n",
              "    </tr>\n",
              "    <tr>\n",
              "      <th>59999997</th>\n",
              "      <td>0.9999</td>\n",
              "      <td>2.9985</td>\n",
              "      <td>2787.19733</td>\n",
              "    </tr>\n",
              "    <tr>\n",
              "      <th>59999998</th>\n",
              "      <td>0.9999</td>\n",
              "      <td>2.9990</td>\n",
              "      <td>2789.29695</td>\n",
              "    </tr>\n",
              "    <tr>\n",
              "      <th>59999999</th>\n",
              "      <td>0.9999</td>\n",
              "      <td>2.9995</td>\n",
              "      <td>2791.39737</td>\n",
              "    </tr>\n",
              "  </tbody>\n",
              "</table>\n",
              "<p>60000000 rows × 3 columns</p>\n",
              "</div>\n",
              "      <button class=\"colab-df-convert\" onclick=\"convertToInteractive('df-e14430c0-212d-45cf-b18f-76a4a6d378b7')\"\n",
              "              title=\"Convert this dataframe to an interactive table.\"\n",
              "              style=\"display:none;\">\n",
              "        \n",
              "  <svg xmlns=\"http://www.w3.org/2000/svg\" height=\"24px\"viewBox=\"0 0 24 24\"\n",
              "       width=\"24px\">\n",
              "    <path d=\"M0 0h24v24H0V0z\" fill=\"none\"/>\n",
              "    <path d=\"M18.56 5.44l.94 2.06.94-2.06 2.06-.94-2.06-.94-.94-2.06-.94 2.06-2.06.94zm-11 1L8.5 8.5l.94-2.06 2.06-.94-2.06-.94L8.5 2.5l-.94 2.06-2.06.94zm10 10l.94 2.06.94-2.06 2.06-.94-2.06-.94-.94-2.06-.94 2.06-2.06.94z\"/><path d=\"M17.41 7.96l-1.37-1.37c-.4-.4-.92-.59-1.43-.59-.52 0-1.04.2-1.43.59L10.3 9.45l-7.72 7.72c-.78.78-.78 2.05 0 2.83L4 21.41c.39.39.9.59 1.41.59.51 0 1.02-.2 1.41-.59l7.78-7.78 2.81-2.81c.8-.78.8-2.07 0-2.86zM5.41 20L4 18.59l7.72-7.72 1.47 1.35L5.41 20z\"/>\n",
              "  </svg>\n",
              "      </button>\n",
              "      \n",
              "  <style>\n",
              "    .colab-df-container {\n",
              "      display:flex;\n",
              "      flex-wrap:wrap;\n",
              "      gap: 12px;\n",
              "    }\n",
              "\n",
              "    .colab-df-convert {\n",
              "      background-color: #E8F0FE;\n",
              "      border: none;\n",
              "      border-radius: 50%;\n",
              "      cursor: pointer;\n",
              "      display: none;\n",
              "      fill: #1967D2;\n",
              "      height: 32px;\n",
              "      padding: 0 0 0 0;\n",
              "      width: 32px;\n",
              "    }\n",
              "\n",
              "    .colab-df-convert:hover {\n",
              "      background-color: #E2EBFA;\n",
              "      box-shadow: 0px 1px 2px rgba(60, 64, 67, 0.3), 0px 1px 3px 1px rgba(60, 64, 67, 0.15);\n",
              "      fill: #174EA6;\n",
              "    }\n",
              "\n",
              "    [theme=dark] .colab-df-convert {\n",
              "      background-color: #3B4455;\n",
              "      fill: #D2E3FC;\n",
              "    }\n",
              "\n",
              "    [theme=dark] .colab-df-convert:hover {\n",
              "      background-color: #434B5C;\n",
              "      box-shadow: 0px 1px 3px 1px rgba(0, 0, 0, 0.15);\n",
              "      filter: drop-shadow(0px 1px 2px rgba(0, 0, 0, 0.3));\n",
              "      fill: #FFFFFF;\n",
              "    }\n",
              "  </style>\n",
              "\n",
              "      <script>\n",
              "        const buttonEl =\n",
              "          document.querySelector('#df-e14430c0-212d-45cf-b18f-76a4a6d378b7 button.colab-df-convert');\n",
              "        buttonEl.style.display =\n",
              "          google.colab.kernel.accessAllowed ? 'block' : 'none';\n",
              "\n",
              "        async function convertToInteractive(key) {\n",
              "          const element = document.querySelector('#df-e14430c0-212d-45cf-b18f-76a4a6d378b7');\n",
              "          const dataTable =\n",
              "            await google.colab.kernel.invokeFunction('convertToInteractive',\n",
              "                                                     [key], {});\n",
              "          if (!dataTable) return;\n",
              "\n",
              "          const docLinkHtml = 'Like what you see? Visit the ' +\n",
              "            '<a target=\"_blank\" href=https://colab.research.google.com/notebooks/data_table.ipynb>data table notebook</a>'\n",
              "            + ' to learn more about interactive tables.';\n",
              "          element.innerHTML = '';\n",
              "          dataTable['output_type'] = 'display_data';\n",
              "          await google.colab.output.renderOutput(dataTable, element);\n",
              "          const docLink = document.createElement('div');\n",
              "          docLink.innerHTML = docLinkHtml;\n",
              "          element.appendChild(docLink);\n",
              "        }\n",
              "      </script>\n",
              "    </div>\n",
              "  </div>\n",
              "  "
            ]
          },
          "metadata": {},
          "execution_count": 9
        }
      ]
    },
    {
      "cell_type": "markdown",
      "source": [
        "#Find minimim $\\chi^2$ values"
      ],
      "metadata": {
        "id": "_xXenVM0atCx"
      }
    },
    {
      "cell_type": "code",
      "source": [
        "df_min=df.loc[df['chi2'].idxmin()]\n",
        "df_min"
      ],
      "metadata": {
        "colab": {
          "base_uri": "https://localhost:8080/"
        },
        "id": "z24fTsIXaanU",
        "outputId": "ddc9a712-b725-4997-a0ab-ca9258efb2f5"
      },
      "execution_count": null,
      "outputs": [
        {
          "output_type": "execute_result",
          "data": {
            "text/plain": [
              "a       0.34100\n",
              "b       1.93150\n",
              "chi2    1.01585\n",
              "Name: 4095863, dtype: float64"
            ]
          },
          "metadata": {},
          "execution_count": 15
        }
      ]
    },
    {
      "cell_type": "markdown",
      "source": [
        "#Estimate Confidence Intervals"
      ],
      "metadata": {
        "id": "C3PVreDBdCOs"
      }
    },
    {
      "cell_type": "markdown",
      "source": [
        "##$68.27\\%$ confidence level"
      ],
      "metadata": {
        "id": "F09tlhPtdI7p"
      }
    },
    {
      "cell_type": "code",
      "source": [
        "df_1_sig = df[(round(df['chi2'],2) ==round (df_min[2]+2.3,2))]\n",
        "df_1_sig"
      ],
      "metadata": {
        "colab": {
          "base_uri": "https://localhost:8080/",
          "height": 423
        },
        "id": "P8rHIB4Qa0oR",
        "outputId": "e55580ee-0033-4077-ed9f-9d41c0e98086"
      },
      "execution_count": null,
      "outputs": [
        {
          "output_type": "execute_result",
          "data": {
            "text/plain": [
              "              a       b     chi2\n",
              "2127979  0.1770  1.9895  3.32232\n",
              "2127980  0.1770  1.9900  3.31896\n",
              "2127981  0.1770  1.9905  3.31640\n",
              "2127986  0.1770  1.9930  3.31563\n",
              "2127987  0.1770  1.9935  3.31788\n",
              "...         ...     ...      ...\n",
              "6069742  0.5055  1.8710  3.31650\n",
              "6069743  0.5055  1.8715  3.31707\n",
              "6069744  0.5055  1.8720  3.31843\n",
              "6069745  0.5055  1.8725  3.32060\n",
              "6069746  0.5055  1.8730  3.32357\n",
              "\n",
              "[346 rows x 3 columns]"
            ],
            "text/html": [
              "\n",
              "\n",
              "  <div id=\"df-1a738311-1041-4fd4-b71c-b4779c0d2a0c\">\n",
              "    <div class=\"colab-df-container\">\n",
              "      <div>\n",
              "<style scoped>\n",
              "    .dataframe tbody tr th:only-of-type {\n",
              "        vertical-align: middle;\n",
              "    }\n",
              "\n",
              "    .dataframe tbody tr th {\n",
              "        vertical-align: top;\n",
              "    }\n",
              "\n",
              "    .dataframe thead th {\n",
              "        text-align: right;\n",
              "    }\n",
              "</style>\n",
              "<table border=\"1\" class=\"dataframe\">\n",
              "  <thead>\n",
              "    <tr style=\"text-align: right;\">\n",
              "      <th></th>\n",
              "      <th>a</th>\n",
              "      <th>b</th>\n",
              "      <th>chi2</th>\n",
              "    </tr>\n",
              "  </thead>\n",
              "  <tbody>\n",
              "    <tr>\n",
              "      <th>2127979</th>\n",
              "      <td>0.1770</td>\n",
              "      <td>1.9895</td>\n",
              "      <td>3.32232</td>\n",
              "    </tr>\n",
              "    <tr>\n",
              "      <th>2127980</th>\n",
              "      <td>0.1770</td>\n",
              "      <td>1.9900</td>\n",
              "      <td>3.31896</td>\n",
              "    </tr>\n",
              "    <tr>\n",
              "      <th>2127981</th>\n",
              "      <td>0.1770</td>\n",
              "      <td>1.9905</td>\n",
              "      <td>3.31640</td>\n",
              "    </tr>\n",
              "    <tr>\n",
              "      <th>2127986</th>\n",
              "      <td>0.1770</td>\n",
              "      <td>1.9930</td>\n",
              "      <td>3.31563</td>\n",
              "    </tr>\n",
              "    <tr>\n",
              "      <th>2127987</th>\n",
              "      <td>0.1770</td>\n",
              "      <td>1.9935</td>\n",
              "      <td>3.31788</td>\n",
              "    </tr>\n",
              "    <tr>\n",
              "      <th>...</th>\n",
              "      <td>...</td>\n",
              "      <td>...</td>\n",
              "      <td>...</td>\n",
              "    </tr>\n",
              "    <tr>\n",
              "      <th>6069742</th>\n",
              "      <td>0.5055</td>\n",
              "      <td>1.8710</td>\n",
              "      <td>3.31650</td>\n",
              "    </tr>\n",
              "    <tr>\n",
              "      <th>6069743</th>\n",
              "      <td>0.5055</td>\n",
              "      <td>1.8715</td>\n",
              "      <td>3.31707</td>\n",
              "    </tr>\n",
              "    <tr>\n",
              "      <th>6069744</th>\n",
              "      <td>0.5055</td>\n",
              "      <td>1.8720</td>\n",
              "      <td>3.31843</td>\n",
              "    </tr>\n",
              "    <tr>\n",
              "      <th>6069745</th>\n",
              "      <td>0.5055</td>\n",
              "      <td>1.8725</td>\n",
              "      <td>3.32060</td>\n",
              "    </tr>\n",
              "    <tr>\n",
              "      <th>6069746</th>\n",
              "      <td>0.5055</td>\n",
              "      <td>1.8730</td>\n",
              "      <td>3.32357</td>\n",
              "    </tr>\n",
              "  </tbody>\n",
              "</table>\n",
              "<p>346 rows × 3 columns</p>\n",
              "</div>\n",
              "      <button class=\"colab-df-convert\" onclick=\"convertToInteractive('df-1a738311-1041-4fd4-b71c-b4779c0d2a0c')\"\n",
              "              title=\"Convert this dataframe to an interactive table.\"\n",
              "              style=\"display:none;\">\n",
              "\n",
              "  <svg xmlns=\"http://www.w3.org/2000/svg\" height=\"24px\"viewBox=\"0 0 24 24\"\n",
              "       width=\"24px\">\n",
              "    <path d=\"M0 0h24v24H0V0z\" fill=\"none\"/>\n",
              "    <path d=\"M18.56 5.44l.94 2.06.94-2.06 2.06-.94-2.06-.94-.94-2.06-.94 2.06-2.06.94zm-11 1L8.5 8.5l.94-2.06 2.06-.94-2.06-.94L8.5 2.5l-.94 2.06-2.06.94zm10 10l.94 2.06.94-2.06 2.06-.94-2.06-.94-.94-2.06-.94 2.06-2.06.94z\"/><path d=\"M17.41 7.96l-1.37-1.37c-.4-.4-.92-.59-1.43-.59-.52 0-1.04.2-1.43.59L10.3 9.45l-7.72 7.72c-.78.78-.78 2.05 0 2.83L4 21.41c.39.39.9.59 1.41.59.51 0 1.02-.2 1.41-.59l7.78-7.78 2.81-2.81c.8-.78.8-2.07 0-2.86zM5.41 20L4 18.59l7.72-7.72 1.47 1.35L5.41 20z\"/>\n",
              "  </svg>\n",
              "      </button>\n",
              "\n",
              "\n",
              "\n",
              "    <div id=\"df-5c116fc0-50ad-421a-bd81-6ae065934f63\">\n",
              "      <button class=\"colab-df-quickchart\" onclick=\"quickchart('df-5c116fc0-50ad-421a-bd81-6ae065934f63')\"\n",
              "              title=\"Suggest charts.\"\n",
              "              style=\"display:none;\">\n",
              "\n",
              "<svg xmlns=\"http://www.w3.org/2000/svg\" height=\"24px\"viewBox=\"0 0 24 24\"\n",
              "     width=\"24px\">\n",
              "    <g>\n",
              "        <path d=\"M19 3H5c-1.1 0-2 .9-2 2v14c0 1.1.9 2 2 2h14c1.1 0 2-.9 2-2V5c0-1.1-.9-2-2-2zM9 17H7v-7h2v7zm4 0h-2V7h2v10zm4 0h-2v-4h2v4z\"/>\n",
              "    </g>\n",
              "</svg>\n",
              "      </button>\n",
              "    </div>\n",
              "\n",
              "<style>\n",
              "  .colab-df-quickchart {\n",
              "    background-color: #E8F0FE;\n",
              "    border: none;\n",
              "    border-radius: 50%;\n",
              "    cursor: pointer;\n",
              "    display: none;\n",
              "    fill: #1967D2;\n",
              "    height: 32px;\n",
              "    padding: 0 0 0 0;\n",
              "    width: 32px;\n",
              "  }\n",
              "\n",
              "  .colab-df-quickchart:hover {\n",
              "    background-color: #E2EBFA;\n",
              "    box-shadow: 0px 1px 2px rgba(60, 64, 67, 0.3), 0px 1px 3px 1px rgba(60, 64, 67, 0.15);\n",
              "    fill: #174EA6;\n",
              "  }\n",
              "\n",
              "  [theme=dark] .colab-df-quickchart {\n",
              "    background-color: #3B4455;\n",
              "    fill: #D2E3FC;\n",
              "  }\n",
              "\n",
              "  [theme=dark] .colab-df-quickchart:hover {\n",
              "    background-color: #434B5C;\n",
              "    box-shadow: 0px 1px 3px 1px rgba(0, 0, 0, 0.15);\n",
              "    filter: drop-shadow(0px 1px 2px rgba(0, 0, 0, 0.3));\n",
              "    fill: #FFFFFF;\n",
              "  }\n",
              "</style>\n",
              "\n",
              "    <script>\n",
              "      async function quickchart(key) {\n",
              "        const containerElement = document.querySelector('#' + key);\n",
              "        const charts = await google.colab.kernel.invokeFunction(\n",
              "            'suggestCharts', [key], {});\n",
              "      }\n",
              "    </script>\n",
              "\n",
              "      <script>\n",
              "\n",
              "function displayQuickchartButton(domScope) {\n",
              "  let quickchartButtonEl =\n",
              "    domScope.querySelector('#df-5c116fc0-50ad-421a-bd81-6ae065934f63 button.colab-df-quickchart');\n",
              "  quickchartButtonEl.style.display =\n",
              "    google.colab.kernel.accessAllowed ? 'block' : 'none';\n",
              "}\n",
              "\n",
              "        displayQuickchartButton(document);\n",
              "      </script>\n",
              "      <style>\n",
              "    .colab-df-container {\n",
              "      display:flex;\n",
              "      flex-wrap:wrap;\n",
              "      gap: 12px;\n",
              "    }\n",
              "\n",
              "    .colab-df-convert {\n",
              "      background-color: #E8F0FE;\n",
              "      border: none;\n",
              "      border-radius: 50%;\n",
              "      cursor: pointer;\n",
              "      display: none;\n",
              "      fill: #1967D2;\n",
              "      height: 32px;\n",
              "      padding: 0 0 0 0;\n",
              "      width: 32px;\n",
              "    }\n",
              "\n",
              "    .colab-df-convert:hover {\n",
              "      background-color: #E2EBFA;\n",
              "      box-shadow: 0px 1px 2px rgba(60, 64, 67, 0.3), 0px 1px 3px 1px rgba(60, 64, 67, 0.15);\n",
              "      fill: #174EA6;\n",
              "    }\n",
              "\n",
              "    [theme=dark] .colab-df-convert {\n",
              "      background-color: #3B4455;\n",
              "      fill: #D2E3FC;\n",
              "    }\n",
              "\n",
              "    [theme=dark] .colab-df-convert:hover {\n",
              "      background-color: #434B5C;\n",
              "      box-shadow: 0px 1px 3px 1px rgba(0, 0, 0, 0.15);\n",
              "      filter: drop-shadow(0px 1px 2px rgba(0, 0, 0, 0.3));\n",
              "      fill: #FFFFFF;\n",
              "    }\n",
              "  </style>\n",
              "\n",
              "      <script>\n",
              "        const buttonEl =\n",
              "          document.querySelector('#df-1a738311-1041-4fd4-b71c-b4779c0d2a0c button.colab-df-convert');\n",
              "        buttonEl.style.display =\n",
              "          google.colab.kernel.accessAllowed ? 'block' : 'none';\n",
              "\n",
              "        async function convertToInteractive(key) {\n",
              "          const element = document.querySelector('#df-1a738311-1041-4fd4-b71c-b4779c0d2a0c');\n",
              "          const dataTable =\n",
              "            await google.colab.kernel.invokeFunction('convertToInteractive',\n",
              "                                                     [key], {});\n",
              "          if (!dataTable) return;\n",
              "\n",
              "          const docLinkHtml = 'Like what you see? Visit the ' +\n",
              "            '<a target=\"_blank\" href=https://colab.research.google.com/notebooks/data_table.ipynb>data table notebook</a>'\n",
              "            + ' to learn more about interactive tables.';\n",
              "          element.innerHTML = '';\n",
              "          dataTable['output_type'] = 'display_data';\n",
              "          await google.colab.output.renderOutput(dataTable, element);\n",
              "          const docLink = document.createElement('div');\n",
              "          docLink.innerHTML = docLinkHtml;\n",
              "          element.appendChild(docLink);\n",
              "        }\n",
              "      </script>\n",
              "    </div>\n",
              "  </div>\n"
            ]
          },
          "metadata": {},
          "execution_count": 39
        }
      ]
    },
    {
      "cell_type": "markdown",
      "source": [
        "##Plot $68.27\\%$ Confidence Level"
      ],
      "metadata": {
        "id": "v4dKFCLRoe5O"
      }
    },
    {
      "cell_type": "code",
      "source": [
        "plt.plot(df_1_sig['a'],df_1_sig['b'],'b.')"
      ],
      "metadata": {
        "colab": {
          "base_uri": "https://localhost:8080/",
          "height": 447
        },
        "id": "zvYF03iYdR9n",
        "outputId": "280a168c-ed18-4a6a-b5a7-ba96cf2ff698"
      },
      "execution_count": null,
      "outputs": [
        {
          "output_type": "execute_result",
          "data": {
            "text/plain": [
              "[<matplotlib.lines.Line2D at 0x7f5e91831d80>]"
            ]
          },
          "metadata": {},
          "execution_count": 19
        },
        {
          "output_type": "display_data",
          "data": {
            "text/plain": [
              "<Figure size 640x480 with 1 Axes>"
            ],
            "image/png": "[encoded data removed]"
          },
          "metadata": {}
        }
      ]
    },
    {
      "cell_type": "code",
      "source": [
        "df_1_sig['a'].std()"
      ],
      "metadata": {
        "colab": {
          "base_uri": "https://localhost:8080/"
        },
        "id": "UlfZHoHDqYKr",
        "outputId": "eb36cab0-dc23-4b70-f9d5-f2848710c4e6"
      },
      "execution_count": null,
      "outputs": [
        {
          "output_type": "execute_result",
          "data": {
            "text/plain": [
              "0.11823058409983046"
            ]
          },
          "metadata": {},
          "execution_count": 56
        }
      ]
    },
    {
      "cell_type": "markdown",
      "source": [
        "##$95.45\\%$ confidence level"
      ],
      "metadata": {
        "id": "8W1Rjer_olo5"
      }
    },
    {
      "cell_type": "code",
      "source": [
        "df_2_sig = df[(round(df['chi2'],2) ==round (df_min[2]+6.18,2))]\n",
        "df_2_sig"
      ],
      "metadata": {
        "colab": {
          "base_uri": "https://localhost:8080/",
          "height": 423
        },
        "outputId": "cdd63472-6408-419f-f285-d4865eb8788e",
        "id": "vEtDKq56olo5"
      },
      "execution_count": null,
      "outputs": [
        {
          "output_type": "execute_result",
          "data": {
            "text/plain": [
              "              a       b     chi2\n",
              "868056   0.0720  2.0280  7.20173\n",
              "868057   0.0720  2.0285  7.19812\n",
              "868058   0.0720  2.0290  7.19531\n",
              "868064   0.0720  2.0320  7.19526\n",
              "868065   0.0720  2.0325  7.19805\n",
              "...         ...     ...      ...\n",
              "7329665  0.6105  1.8325  7.19668\n",
              "7329666  0.6105  1.8330  7.19750\n",
              "7329667  0.6105  1.8335  7.19912\n",
              "7329668  0.6105  1.8340  7.20155\n",
              "7329669  0.6105  1.8345  7.20477\n",
              "\n",
              "[347 rows x 3 columns]"
            ],
            "text/html": [
              "\n",
              "\n",
              "  <div id=\"df-7f129f27-2139-4169-8b10-e71a91afd43c\">\n",
              "    <div class=\"colab-df-container\">\n",
              "      <div>\n",
              "<style scoped>\n",
              "    .dataframe tbody tr th:only-of-type {\n",
              "        vertical-align: middle;\n",
              "    }\n",
              "\n",
              "    .dataframe tbody tr th {\n",
              "        vertical-align: top;\n",
              "    }\n",
              "\n",
              "    .dataframe thead th {\n",
              "        text-align: right;\n",
              "    }\n",
              "</style>\n",
              "<table border=\"1\" class=\"dataframe\">\n",
              "  <thead>\n",
              "    <tr style=\"text-align: right;\">\n",
              "      <th></th>\n",
              "      <th>a</th>\n",
              "      <th>b</th>\n",
              "      <th>chi2</th>\n",
              "    </tr>\n",
              "  </thead>\n",
              "  <tbody>\n",
              "    <tr>\n",
              "      <th>868056</th>\n",
              "      <td>0.0720</td>\n",
              "      <td>2.0280</td>\n",
              "      <td>7.20173</td>\n",
              "    </tr>\n",
              "    <tr>\n",
              "      <th>868057</th>\n",
              "      <td>0.0720</td>\n",
              "      <td>2.0285</td>\n",
              "      <td>7.19812</td>\n",
              "    </tr>\n",
              "    <tr>\n",
              "      <th>868058</th>\n",
              "      <td>0.0720</td>\n",
              "      <td>2.0290</td>\n",
              "      <td>7.19531</td>\n",
              "    </tr>\n",
              "    <tr>\n",
              "      <th>868064</th>\n",
              "      <td>0.0720</td>\n",
              "      <td>2.0320</td>\n",
              "      <td>7.19526</td>\n",
              "    </tr>\n",
              "    <tr>\n",
              "      <th>868065</th>\n",
              "      <td>0.0720</td>\n",
              "      <td>2.0325</td>\n",
              "      <td>7.19805</td>\n",
              "    </tr>\n",
              "    <tr>\n",
              "      <th>...</th>\n",
              "      <td>...</td>\n",
              "      <td>...</td>\n",
              "      <td>...</td>\n",
              "    </tr>\n",
              "    <tr>\n",
              "      <th>7329665</th>\n",
              "      <td>0.6105</td>\n",
              "      <td>1.8325</td>\n",
              "      <td>7.19668</td>\n",
              "    </tr>\n",
              "    <tr>\n",
              "      <th>7329666</th>\n",
              "      <td>0.6105</td>\n",
              "      <td>1.8330</td>\n",
              "      <td>7.19750</td>\n",
              "    </tr>\n",
              "    <tr>\n",
              "      <th>7329667</th>\n",
              "      <td>0.6105</td>\n",
              "      <td>1.8335</td>\n",
              "      <td>7.19912</td>\n",
              "    </tr>\n",
              "    <tr>\n",
              "      <th>7329668</th>\n",
              "      <td>0.6105</td>\n",
              "      <td>1.8340</td>\n",
              "      <td>7.20155</td>\n",
              "    </tr>\n",
              "    <tr>\n",
              "      <th>7329669</th>\n",
              "      <td>0.6105</td>\n",
              "      <td>1.8345</td>\n",
              "      <td>7.20477</td>\n",
              "    </tr>\n",
              "  </tbody>\n",
              "</table>\n",
              "<p>347 rows × 3 columns</p>\n",
              "</div>\n",
              "      <button class=\"colab-df-convert\" onclick=\"convertToInteractive('df-7f129f27-2139-4169-8b10-e71a91afd43c')\"\n",
              "              title=\"Convert this dataframe to an interactive table.\"\n",
              "              style=\"display:none;\">\n",
              "\n",
              "  <svg xmlns=\"http://www.w3.org/2000/svg\" height=\"24px\"viewBox=\"0 0 24 24\"\n",
              "       width=\"24px\">\n",
              "    <path d=\"M0 0h24v24H0V0z\" fill=\"none\"/>\n",
              "    <path d=\"M18.56 5.44l.94 2.06.94-2.06 2.06-.94-2.06-.94-.94-2.06-.94 2.06-2.06.94zm-11 1L8.5 8.5l.94-2.06 2.06-.94-2.06-.94L8.5 2.5l-.94 2.06-2.06.94zm10 10l.94 2.06.94-2.06 2.06-.94-2.06-.94-.94-2.06-.94 2.06-2.06.94z\"/><path d=\"M17.41 7.96l-1.37-1.37c-.4-.4-.92-.59-1.43-.59-.52 0-1.04.2-1.43.59L10.3 9.45l-7.72 7.72c-.78.78-.78 2.05 0 2.83L4 21.41c.39.39.9.59 1.41.59.51 0 1.02-.2 1.41-.59l7.78-7.78 2.81-2.81c.8-.78.8-2.07 0-2.86zM5.41 20L4 18.59l7.72-7.72 1.47 1.35L5.41 20z\"/>\n",
              "  </svg>\n",
              "      </button>\n",
              "\n",
              "\n",
              "\n",
              "    <div id=\"df-81b62284-f84b-4752-9dc4-141a650736f2\">\n",
              "      <button class=\"colab-df-quickchart\" onclick=\"quickchart('df-81b62284-f84b-4752-9dc4-141a650736f2')\"\n",
              "              title=\"Suggest charts.\"\n",
              "              style=\"display:none;\">\n",
              "\n",
              "<svg xmlns=\"http://www.w3.org/2000/svg\" height=\"24px\"viewBox=\"0 0 24 24\"\n",
              "     width=\"24px\">\n",
              "    <g>\n",
              "        <path d=\"M19 3H5c-1.1 0-2 .9-2 2v14c0 1.1.9 2 2 2h14c1.1 0 2-.9 2-2V5c0-1.1-.9-2-2-2zM9 17H7v-7h2v7zm4 0h-2V7h2v10zm4 0h-2v-4h2v4z\"/>\n",
              "    </g>\n",
              "</svg>\n",
              "      </button>\n",
              "    </div>\n",
              "\n",
              "<style>\n",
              "  .colab-df-quickchart {\n",
              "    background-color: #E8F0FE;\n",
              "    border: none;\n",
              "    border-radius: 50%;\n",
              "    cursor: pointer;\n",
              "    display: none;\n",
              "    fill: #1967D2;\n",
              "    height: 32px;\n",
              "    padding: 0 0 0 0;\n",
              "    width: 32px;\n",
              "  }\n",
              "\n",
              "  .colab-df-quickchart:hover {\n",
              "    background-color: #E2EBFA;\n",
              "    box-shadow: 0px 1px 2px rgba(60, 64, 67, 0.3), 0px 1px 3px 1px rgba(60, 64, 67, 0.15);\n",
              "    fill: #174EA6;\n",
              "  }\n",
              "\n",
              "  [theme=dark] .colab-df-quickchart {\n",
              "    background-color: #3B4455;\n",
              "    fill: #D2E3FC;\n",
              "  }\n",
              "\n",
              "  [theme=dark] .colab-df-quickchart:hover {\n",
              "    background-color: #434B5C;\n",
              "    box-shadow: 0px 1px 3px 1px rgba(0, 0, 0, 0.15);\n",
              "    filter: drop-shadow(0px 1px 2px rgba(0, 0, 0, 0.3));\n",
              "    fill: #FFFFFF;\n",
              "  }\n",
              "</style>\n",
              "\n",
              "    <script>\n",
              "      async function quickchart(key) {\n",
              "        const containerElement = document.querySelector('#' + key);\n",
              "        const charts = await google.colab.kernel.invokeFunction(\n",
              "            'suggestCharts', [key], {});\n",
              "      }\n",
              "    </script>\n",
              "\n",
              "      <script>\n",
              "\n",
              "function displayQuickchartButton(domScope) {\n",
              "  let quickchartButtonEl =\n",
              "    domScope.querySelector('#df-81b62284-f84b-4752-9dc4-141a650736f2 button.colab-df-quickchart');\n",
              "  quickchartButtonEl.style.display =\n",
              "    google.colab.kernel.accessAllowed ? 'block' : 'none';\n",
              "}\n",
              "\n",
              "        displayQuickchartButton(document);\n",
              "      </script>\n",
              "      <style>\n",
              "    .colab-df-container {\n",
              "      display:flex;\n",
              "      flex-wrap:wrap;\n",
              "      gap: 12px;\n",
              "    }\n",
              "\n",
              "    .colab-df-convert {\n",
              "      background-color: #E8F0FE;\n",
              "      border: none;\n",
              "      border-radius: 50%;\n",
              "      cursor: pointer;\n",
              "      display: none;\n",
              "      fill: #1967D2;\n",
              "      height: 32px;\n",
              "      padding: 0 0 0 0;\n",
              "      width: 32px;\n",
              "    }\n",
              "\n",
              "    .colab-df-convert:hover {\n",
              "      background-color: #E2EBFA;\n",
              "      box-shadow: 0px 1px 2px rgba(60, 64, 67, 0.3), 0px 1px 3px 1px rgba(60, 64, 67, 0.15);\n",
              "      fill: #174EA6;\n",
              "    }\n",
              "\n",
              "    [theme=dark] .colab-df-convert {\n",
              "      background-color: #3B4455;\n",
              "      fill: #D2E3FC;\n",
              "    }\n",
              "\n",
              "    [theme=dark] .colab-df-convert:hover {\n",
              "      background-color: #434B5C;\n",
              "      box-shadow: 0px 1px 3px 1px rgba(0, 0, 0, 0.15);\n",
              "      filter: drop-shadow(0px 1px 2px rgba(0, 0, 0, 0.3));\n",
              "      fill: #FFFFFF;\n",
              "    }\n",
              "  </style>\n",
              "\n",
              "      <script>\n",
              "        const buttonEl =\n",
              "          document.querySelector('#df-7f129f27-2139-4169-8b10-e71a91afd43c button.colab-df-convert');\n",
              "        buttonEl.style.display =\n",
              "          google.colab.kernel.accessAllowed ? 'block' : 'none';\n",
              "\n",
              "        async function convertToInteractive(key) {\n",
              "          const element = document.querySelector('#df-7f129f27-2139-4169-8b10-e71a91afd43c');\n",
              "          const dataTable =\n",
              "            await google.colab.kernel.invokeFunction('convertToInteractive',\n",
              "                                                     [key], {});\n",
              "          if (!dataTable) return;\n",
              "\n",
              "          const docLinkHtml = 'Like what you see? Visit the ' +\n",
              "            '<a target=\"_blank\" href=https://colab.research.google.com/notebooks/data_table.ipynb>data table notebook</a>'\n",
              "            + ' to learn more about interactive tables.';\n",
              "          element.innerHTML = '';\n",
              "          dataTable['output_type'] = 'display_data';\n",
              "          await google.colab.output.renderOutput(dataTable, element);\n",
              "          const docLink = document.createElement('div');\n",
              "          docLink.innerHTML = docLinkHtml;\n",
              "          element.appendChild(docLink);\n",
              "        }\n",
              "      </script>\n",
              "    </div>\n",
              "  </div>\n"
            ]
          },
          "metadata": {},
          "execution_count": 38
        }
      ]
    },
    {
      "cell_type": "markdown",
      "source": [
        "##Plot $95.45\\%$ Confidence Level"
      ],
      "metadata": {
        "id": "ATOPK9g9olo6"
      }
    },
    {
      "cell_type": "code",
      "source": [
        "plt.plot(df_2_sig['a'],df_2_sig['b'],'r.')"
      ],
      "metadata": {
        "colab": {
          "base_uri": "https://localhost:8080/",
          "height": 447
        },
        "outputId": "fd1fa2b3-1579-4da3-8dd7-ea89b0a7f68b",
        "id": "WwpNvnXbolo6"
      },
      "execution_count": null,
      "outputs": [
        {
          "output_type": "execute_result",
          "data": {
            "text/plain": [
              "[<matplotlib.lines.Line2D at 0x7f5e643be530>]"
            ]
          },
          "metadata": {},
          "execution_count": 40
        },
        {
          "output_type": "display_data",
          "data": {
            "text/plain": [
              "<Figure size 640x480 with 1 Axes>"
            ],
            "image/png": "[encoded data removed]"
          },
          "metadata": {}
        }
      ]
    },
    {
      "cell_type": "markdown",
      "source": [
        "##$99.70\\%$ confidence level"
      ],
      "metadata": {
        "id": "wUkxFTfQo_z_"
      }
    },
    {
      "cell_type": "code",
      "source": [
        "df_3_sig = df[(round(df['chi2'],2) ==round (df_min[2]+11.83,2))]\n",
        "df_3_sig"
      ],
      "metadata": {
        "colab": {
          "base_uri": "https://localhost:8080/",
          "height": 423
        },
        "outputId": "e0ba1fe1-d763-4b51-e5a0-34ebdc6112e3",
        "id": "uCiTkvyjo_z_"
      },
      "execution_count": null,
      "outputs": [
        {
          "output_type": "execute_result",
          "data": {
            "text/plain": [
              "              a       b      chi2\n",
              "4045     0.0000  2.0225  12.84654\n",
              "10044    0.0005  2.0220  12.85260\n",
              "40184    0.0030  2.0920  12.85114\n",
              "52038    0.0040  2.0190  12.84618\n",
              "58037    0.0045  2.0185  12.85463\n",
              "...         ...     ...       ...\n",
              "8559600  0.7130  1.8000  12.84536\n",
              "8559601  0.7130  1.8005  12.85458\n",
              "8565581  0.7135  1.7905  12.85189\n",
              "8565582  0.7135  1.7910  12.84618\n",
              "8565596  0.7135  1.7980  12.85033\n",
              "\n",
              "[300 rows x 3 columns]"
            ],
            "text/html": [
              "\n",
              "\n",
              "  <div id=\"df-0a8b6b51-1e8f-4730-ac24-e6e5bbc36b16\">\n",
              "    <div class=\"colab-df-container\">\n",
              "      <div>\n",
              "<style scoped>\n",
              "    .dataframe tbody tr th:only-of-type {\n",
              "        vertical-align: middle;\n",
              "    }\n",
              "\n",
              "    .dataframe tbody tr th {\n",
              "        vertical-align: top;\n",
              "    }\n",
              "\n",
              "    .dataframe thead th {\n",
              "        text-align: right;\n",
              "    }\n",
              "</style>\n",
              "<table border=\"1\" class=\"dataframe\">\n",
              "  <thead>\n",
              "    <tr style=\"text-align: right;\">\n",
              "      <th></th>\n",
              "      <th>a</th>\n",
              "      <th>b</th>\n",
              "      <th>chi2</th>\n",
              "    </tr>\n",
              "  </thead>\n",
              "  <tbody>\n",
              "    <tr>\n",
              "      <th>4045</th>\n",
              "      <td>0.0000</td>\n",
              "      <td>2.0225</td>\n",
              "      <td>12.84654</td>\n",
              "    </tr>\n",
              "    <tr>\n",
              "      <th>10044</th>\n",
              "      <td>0.0005</td>\n",
              "      <td>2.0220</td>\n",
              "      <td>12.85260</td>\n",
              "    </tr>\n",
              "    <tr>\n",
              "      <th>40184</th>\n",
              "      <td>0.0030</td>\n",
              "      <td>2.0920</td>\n",
              "      <td>12.85114</td>\n",
              "    </tr>\n",
              "    <tr>\n",
              "      <th>52038</th>\n",
              "      <td>0.0040</td>\n",
              "      <td>2.0190</td>\n",
              "      <td>12.84618</td>\n",
              "    </tr>\n",
              "    <tr>\n",
              "      <th>58037</th>\n",
              "      <td>0.0045</td>\n",
              "      <td>2.0185</td>\n",
              "      <td>12.85463</td>\n",
              "    </tr>\n",
              "    <tr>\n",
              "      <th>...</th>\n",
              "      <td>...</td>\n",
              "      <td>...</td>\n",
              "      <td>...</td>\n",
              "    </tr>\n",
              "    <tr>\n",
              "      <th>8559600</th>\n",
              "      <td>0.7130</td>\n",
              "      <td>1.8000</td>\n",
              "      <td>12.84536</td>\n",
              "    </tr>\n",
              "    <tr>\n",
              "      <th>8559601</th>\n",
              "      <td>0.7130</td>\n",
              "      <td>1.8005</td>\n",
              "      <td>12.85458</td>\n",
              "    </tr>\n",
              "    <tr>\n",
              "      <th>8565581</th>\n",
              "      <td>0.7135</td>\n",
              "      <td>1.7905</td>\n",
              "      <td>12.85189</td>\n",
              "    </tr>\n",
              "    <tr>\n",
              "      <th>8565582</th>\n",
              "      <td>0.7135</td>\n",
              "      <td>1.7910</td>\n",
              "      <td>12.84618</td>\n",
              "    </tr>\n",
              "    <tr>\n",
              "      <th>8565596</th>\n",
              "      <td>0.7135</td>\n",
              "      <td>1.7980</td>\n",
              "      <td>12.85033</td>\n",
              "    </tr>\n",
              "  </tbody>\n",
              "</table>\n",
              "<p>300 rows × 3 columns</p>\n",
              "</div>\n",
              "      <button class=\"colab-df-convert\" onclick=\"convertToInteractive('df-0a8b6b51-1e8f-4730-ac24-e6e5bbc36b16')\"\n",
              "              title=\"Convert this dataframe to an interactive table.\"\n",
              "              style=\"display:none;\">\n",
              "\n",
              "  <svg xmlns=\"http://www.w3.org/2000/svg\" height=\"24px\"viewBox=\"0 0 24 24\"\n",
              "       width=\"24px\">\n",
              "    <path d=\"M0 0h24v24H0V0z\" fill=\"none\"/>\n",
              "    <path d=\"M18.56 5.44l.94 2.06.94-2.06 2.06-.94-2.06-.94-.94-2.06-.94 2.06-2.06.94zm-11 1L8.5 8.5l.94-2.06 2.06-.94-2.06-.94L8.5 2.5l-.94 2.06-2.06.94zm10 10l.94 2.06.94-2.06 2.06-.94-2.06-.94-.94-2.06-.94 2.06-2.06.94z\"/><path d=\"M17.41 7.96l-1.37-1.37c-.4-.4-.92-.59-1.43-.59-.52 0-1.04.2-1.43.59L10.3 9.45l-7.72 7.72c-.78.78-.78 2.05 0 2.83L4 21.41c.39.39.9.59 1.41.59.51 0 1.02-.2 1.41-.59l7.78-7.78 2.81-2.81c.8-.78.8-2.07 0-2.86zM5.41 20L4 18.59l7.72-7.72 1.47 1.35L5.41 20z\"/>\n",
              "  </svg>\n",
              "      </button>\n",
              "\n",
              "\n",
              "\n",
              "    <div id=\"df-b72aeca5-9d05-4965-a958-614e55d66d9f\">\n",
              "      <button class=\"colab-df-quickchart\" onclick=\"quickchart('df-b72aeca5-9d05-4965-a958-614e55d66d9f')\"\n",
              "              title=\"Suggest charts.\"\n",
              "              style=\"display:none;\">\n",
              "\n",
              "<svg xmlns=\"http://www.w3.org/2000/svg\" height=\"24px\"viewBox=\"0 0 24 24\"\n",
              "     width=\"24px\">\n",
              "    <g>\n",
              "        <path d=\"M19 3H5c-1.1 0-2 .9-2 2v14c0 1.1.9 2 2 2h14c1.1 0 2-.9 2-2V5c0-1.1-.9-2-2-2zM9 17H7v-7h2v7zm4 0h-2V7h2v10zm4 0h-2v-4h2v4z\"/>\n",
              "    </g>\n",
              "</svg>\n",
              "      </button>\n",
              "    </div>\n",
              "\n",
              "<style>\n",
              "  .colab-df-quickchart {\n",
              "    background-color: #E8F0FE;\n",
              "    border: none;\n",
              "    border-radius: 50%;\n",
              "    cursor: pointer;\n",
              "    display: none;\n",
              "    fill: #1967D2;\n",
              "    height: 32px;\n",
              "    padding: 0 0 0 0;\n",
              "    width: 32px;\n",
              "  }\n",
              "\n",
              "  .colab-df-quickchart:hover {\n",
              "    background-color: #E2EBFA;\n",
              "    box-shadow: 0px 1px 2px rgba(60, 64, 67, 0.3), 0px 1px 3px 1px rgba(60, 64, 67, 0.15);\n",
              "    fill: #174EA6;\n",
              "  }\n",
              "\n",
              "  [theme=dark] .colab-df-quickchart {\n",
              "    background-color: #3B4455;\n",
              "    fill: #D2E3FC;\n",
              "  }\n",
              "\n",
              "  [theme=dark] .colab-df-quickchart:hover {\n",
              "    background-color: #434B5C;\n",
              "    box-shadow: 0px 1px 3px 1px rgba(0, 0, 0, 0.15);\n",
              "    filter: drop-shadow(0px 1px 2px rgba(0, 0, 0, 0.3));\n",
              "    fill: #FFFFFF;\n",
              "  }\n",
              "</style>\n",
              "\n",
              "    <script>\n",
              "      async function quickchart(key) {\n",
              "        const containerElement = document.querySelector('#' + key);\n",
              "        const charts = await google.colab.kernel.invokeFunction(\n",
              "            'suggestCharts', [key], {});\n",
              "      }\n",
              "    </script>\n",
              "\n",
              "      <script>\n",
              "\n",
              "function displayQuickchartButton(domScope) {\n",
              "  let quickchartButtonEl =\n",
              "    domScope.querySelector('#df-b72aeca5-9d05-4965-a958-614e55d66d9f button.colab-df-quickchart');\n",
              "  quickchartButtonEl.style.display =\n",
              "    google.colab.kernel.accessAllowed ? 'block' : 'none';\n",
              "}\n",
              "\n",
              "        displayQuickchartButton(document);\n",
              "      </script>\n",
              "      <style>\n",
              "    .colab-df-container {\n",
              "      display:flex;\n",
              "      flex-wrap:wrap;\n",
              "      gap: 12px;\n",
              "    }\n",
              "\n",
              "    .colab-df-convert {\n",
              "      background-color: #E8F0FE;\n",
              "      border: none;\n",
              "      border-radius: 50%;\n",
              "      cursor: pointer;\n",
              "      display: none;\n",
              "      fill: #1967D2;\n",
              "      height: 32px;\n",
              "      padding: 0 0 0 0;\n",
              "      width: 32px;\n",
              "    }\n",
              "\n",
              "    .colab-df-convert:hover {\n",
              "      background-color: #E2EBFA;\n",
              "      box-shadow: 0px 1px 2px rgba(60, 64, 67, 0.3), 0px 1px 3px 1px rgba(60, 64, 67, 0.15);\n",
              "      fill: #174EA6;\n",
              "    }\n",
              "\n",
              "    [theme=dark] .colab-df-convert {\n",
              "      background-color: #3B4455;\n",
              "      fill: #D2E3FC;\n",
              "    }\n",
              "\n",
              "    [theme=dark] .colab-df-convert:hover {\n",
              "      background-color: #434B5C;\n",
              "      box-shadow: 0px 1px 3px 1px rgba(0, 0, 0, 0.15);\n",
              "      filter: drop-shadow(0px 1px 2px rgba(0, 0, 0, 0.3));\n",
              "      fill: #FFFFFF;\n",
              "    }\n",
              "  </style>\n",
              "\n",
              "      <script>\n",
              "        const buttonEl =\n",
              "          document.querySelector('#df-0a8b6b51-1e8f-4730-ac24-e6e5bbc36b16 button.colab-df-convert');\n",
              "        buttonEl.style.display =\n",
              "          google.colab.kernel.accessAllowed ? 'block' : 'none';\n",
              "\n",
              "        async function convertToInteractive(key) {\n",
              "          const element = document.querySelector('#df-0a8b6b51-1e8f-4730-ac24-e6e5bbc36b16');\n",
              "          const dataTable =\n",
              "            await google.colab.kernel.invokeFunction('convertToInteractive',\n",
              "                                                     [key], {});\n",
              "          if (!dataTable) return;\n",
              "\n",
              "          const docLinkHtml = 'Like what you see? Visit the ' +\n",
              "            '<a target=\"_blank\" href=https://colab.research.google.com/notebooks/data_table.ipynb>data table notebook</a>'\n",
              "            + ' to learn more about interactive tables.';\n",
              "          element.innerHTML = '';\n",
              "          dataTable['output_type'] = 'display_data';\n",
              "          await google.colab.output.renderOutput(dataTable, element);\n",
              "          const docLink = document.createElement('div');\n",
              "          docLink.innerHTML = docLinkHtml;\n",
              "          element.appendChild(docLink);\n",
              "        }\n",
              "      </script>\n",
              "    </div>\n",
              "  </div>\n"
            ]
          },
          "metadata": {},
          "execution_count": 41
        }
      ]
    },
    {
      "cell_type": "markdown",
      "source": [
        "##Plot $99.7\\%$ Confidence Level"
      ],
      "metadata": {
        "id": "zIhrqvNho_0A"
      }
    },
    {
      "cell_type": "code",
      "source": [
        "plt.plot(df_3_sig['a'],df_3_sig['b'],'g.')"
      ],
      "metadata": {
        "colab": {
          "base_uri": "https://localhost:8080/",
          "height": 447
        },
        "outputId": "c816c4eb-1a54-42a7-cb31-29beda6c47db",
        "id": "u-dckpBXo_0A"
      },
      "execution_count": null,
      "outputs": [
        {
          "output_type": "execute_result",
          "data": {
            "text/plain": [
              "[<matplotlib.lines.Line2D at 0x7f5e643beaa0>]"
            ]
          },
          "metadata": {},
          "execution_count": 42
        },
        {
          "output_type": "display_data",
          "data": {
            "text/plain": [
              "<Figure size 640x480 with 1 Axes>"
            ],
            "image/png": "[encoded data removed]"
          },
          "metadata": {}
        }
      ]
    },
    {
      "cell_type": "markdown",
      "source": [
        "##Print and Save Final Output"
      ],
      "metadata": {
        "id": "ya8baPUBqOBq"
      }
    },
    {
      "cell_type": "code",
      "source": [
        "plt.xlabel('a')\n",
        "plt.ylabel(\"b\")\n",
        "plt.plot(df_1_sig['a'], df_1_sig['b'],'b.',label='$68.27\\%$ confidence level contour')\n",
        "plt.plot(df_2_sig['a'], df_2_sig['b'],'r.',label='$95.47\\%$ confidence level contour')\n",
        "plt.plot(df_3_sig['a'], df_3_sig['b'],'g.',label='$99.70\\%$ confidence level contour')\n",
        "plt.legend(loc=\"upper right\")\n",
        "plt.annotate(\"$\\chi^2_{\\mathrm{min}}$\", xy=(df_min[0],df_min[1]), xytext=(0.35, 1.783), arrowprops=dict(arrowstyle=\"->\"))\n",
        "plt.tight_layout()\n",
        "plt.savefig('Linear_model_fit_mock_data_Basic.pdf', format='pdf', dpi=1200)\n"
      ],
      "metadata": {
        "colab": {
          "base_uri": "https://localhost:8080/",
          "height": 487
        },
        "id": "J1UNtUIxp_ds",
        "outputId": "cddeb23b-a2c8-4fde-d5a8-17fe388f78d5"
      },
      "execution_count": null,
      "outputs": [
        {
          "output_type": "display_data",
          "data": {
            "text/plain": [
              "<Figure size 640x480 with 1 Axes>"
            ],
            "image/png": "[encoded data removed]"
          },
          "metadata": {}
        }
      ]
    },
    {
      "cell_type": "code",
      "source": [],
      "metadata": {
        "id": "dOQJGDo5sFvK"
      },
      "execution_count": null,
      "outputs": []
    }
  ]
}